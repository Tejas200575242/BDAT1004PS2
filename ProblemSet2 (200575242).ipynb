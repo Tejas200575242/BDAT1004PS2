{
 "cells": [
  {
   "cell_type": "markdown",
   "id": "76ee95fe",
   "metadata": {},
   "source": [
    "# Problem Set 2\n",
    "## Question 1\n",
    "### Consider the following Python module:\n",
    "\n",
    "a = 0\n",
    "def b():\n",
    " global a\n",
    " a = c(a)\n",
    "def c(a):\n",
    " return a + 2\n",
    "\n",
    "After importing the module into the interpreter, you execute:\n",
    "b()\n",
    "b()\n",
    "b()\n",
    "a\n",
    "?\n",
    "What value is displayed when the last expression (a) is evaluated? Explain your\n",
    "answer by indicating what happens in every executed statement.\n"
   ]
  },
  {
   "cell_type": "code",
   "execution_count": 1,
   "id": "77f41dcc",
   "metadata": {},
   "outputs": [],
   "source": [
    "a = 0  # global variable a=0\n",
    "\n",
    "def b():\n",
    "    global a  # accessing a\n",
    "    a = c(a)  # passing value and store return value to global variable a\n",
    "\n",
    "def c(a):\n",
    "    return a + 2  # returns the value after adding 2 to the input a"
   ]
  },
  {
   "cell_type": "code",
   "execution_count": 2,
   "id": "48e1a2c3",
   "metadata": {},
   "outputs": [
    {
     "data": {
      "text/plain": [
       "6"
      ]
     },
     "execution_count": 2,
     "metadata": {},
     "output_type": "execute_result"
    }
   ],
   "source": [
    "b() #a=0 -> a=c(0)=2=0+2\n",
    "b() #a=2 -> a=c(2)=4=2+2\n",
    "b() #a=4 -> a=c(4)=6=4+2\n",
    "a"
   ]
  },
  {
   "cell_type": "markdown",
   "id": "002c7eae",
   "metadata": {},
   "source": [
    "# Question2\n",
    "Function fileLength(), given to you, takes the name of a file as input and returns\n",
    "the length of the file:\n",
    "#### >>> fileLength('midterm.py')\n",
    "284\n",
    "#### >>> fileLength('idterm.py')\n",
    "Traceback (most recent call last):\n",
    "File \"<pyshell#34>\", line 1, in <module>\n",
    " fileLength('idterm.py')\n",
    "File \"/Users/me/midterm.py\", line 3, in fileLength\n",
    " infile = open(filename)\n",
    "FileNotFoundError: [Errno 2] No such file or directory:\n",
    "'idterm.py'\n",
    "As shown above, if the file cannot be found by the interpreter or if it cannot be read\n",
    "as a text file, an exception will be raised. Modify function fileLength() so that a\n",
    "friendly message is printed instead:\n",
    "    \n",
    "# >>> fileLength('midterm.py')\n",
    "358\n",
    "# >>> fileLength('idterm.py')\n",
    "File idterm.py not found."
   ]
  },
  {
   "cell_type": "code",
   "execution_count": 8,
   "id": "da0de421",
   "metadata": {
    "scrolled": true
   },
   "outputs": [
    {
     "name": "stdout",
     "output_type": "stream",
     "text": [
      "Length of midterm.py: 919\n",
      "File idterm.py not found.\n"
     ]
    }
   ],
   "source": [
    "def fileLength(filename):\n",
    "    try:\n",
    "        contents = open(filename) # Open file\n",
    "        data=contents.read() # read File contents\n",
    "        length = len(data) #find the length of data using len() \n",
    "        print(f\"Length of {filename1}:\",length) #print Len\n",
    "    except FileNotFoundError:\n",
    "        print(f\"File {filename} not found.\") #Exception Message when file is not found\n",
    "\n",
    "filename1 =\"midterm.py\" #file present\n",
    "filename2 =\"idterm.py\" #name is not correct\n",
    "\n",
    "fileLength(filename1)\n",
    "fileLength(filename2)\n"
   ]
  },
  {
   "cell_type": "markdown",
   "id": "51836b3d",
   "metadata": {},
   "source": [
    "# Question 3\n",
    "Write a class named Marsupial that can be used as shown below:\n",
    "#### >>> m = Marsupial()\n",
    "#### >>> m.put_in_pouch('doll')\n",
    "#### >>> m.put_in_pouch('firetruck')\n",
    "#### >>> m.put_in_pouch('kitten')\n",
    "#### >>> m.pouch_contents()\n",
    "['doll', 'firetruck', 'kitten']\n",
    "Now write a class named Kangaroo as a subclass of Marsupial that inherits all the\n",
    "attributes of Marsupial and also:\n",
    "a. extends the Marsupial __init__ constructor to take, as input, the\n",
    "coordinates x and y of the Kangaroo object,\n",
    "b. supports method jump that takes number values dx and dy as input and\n",
    "moves the kangaroo by dx units along the x-axis and by dy units along the yaxis, and\n",
    "c. overloads the __str__ operator so it behaves as shown below.\n",
    "#### >>> k = Kangaroo(0,0)\n",
    "#### >>> print(k)\n",
    "I am a Kangaroo located at coordinates (0,0)\n",
    "#### >>> k.put_in_pouch('doll')\n",
    "#### >>> k.put_in_pouch('firetruck')\n",
    "#### >>> k.put_in_pouch('kitten')\n",
    "#### >>> k.pouch_contents()\n",
    "['doll', 'firetruck', 'kitten']\n",
    "#### >>> k.jump(1,0)\n",
    "#### >>> k.jump(1,0)\n",
    "#### >>> k.jump(1,0)\n",
    "#### >>> print(k)\n",
    "I am a Kangaroo located at coordinates (3,0)\n"
   ]
  },
  {
   "cell_type": "code",
   "execution_count": 10,
   "id": "8e63bcf1",
   "metadata": {},
   "outputs": [
    {
     "name": "stdout",
     "output_type": "stream",
     "text": [
      "['doll', 'firetruck', 'kitten']\n",
      "I am a Kangaroo located at coordinates (0,0)\n",
      "['doll', 'firetruck', 'kitten']\n",
      "I am a Kangaroo located at coordinates (3,0)\n"
     ]
    }
   ],
   "source": [
    "class Marsupial:  # Parent Class\n",
    "    def __init__(self):  # Constructor\n",
    "        self.pouch = []  # Blank list for tags\n",
    "\n",
    "    def put_in_pouch(self, item):  # Function to add item to pouch\n",
    "        self.pouch.append(item)  # Append the item to the pouch\n",
    "\n",
    "    def pouch_contents(self):  # Function to return pouch contents\n",
    "        return self.pouch  # Return the contents of the pouch\n",
    "\n",
    "\n",
    "class Kangaroo(Marsupial):  # Child class inheriting from Marsupial\n",
    "    def __init__(self, x, y):  # Constructor with coordinates\n",
    "        super().__init__()  # Call the parent class constructor\n",
    "        self.x = x  # Set x-coordinate\n",
    "        self.y = y  # Set y-coordinate\n",
    "\n",
    "    def jump(self, dx, dy):  # Function to simulate jumping\n",
    "        self.x += dx  # Update x-coordinate by adding dx\n",
    "        self.y += dy  # Update y-coordinate by adding dy\n",
    "\n",
    "    def __str__(self):  # String representation of Kangaroo object\n",
    "        return f\"I am a Kangaroo located at coordinates ({self.x},{self.y})\"  # Return the string with coordinates\n",
    "\n",
    "\n",
    "# Marsupial object operations\n",
    "m = Marsupial()  # Create an instance of the Marsupial class\n",
    "m.put_in_pouch('doll')  # Add 'doll' to the pouch\n",
    "m.put_in_pouch('firetruck')  # Add 'firetruck' to the pouch\n",
    "m.put_in_pouch('kitten')  # Add 'kitten' to the pouch\n",
    "print(m.pouch_contents())  # Print the contents of the pouch\n",
    "\n",
    "# Kangaroo object operations\n",
    "k = Kangaroo(0, 0)  # Create an instance of the Kangaroo class at position (0,0)\n",
    "print(k)  # Print the string representation of the Kangaroo object\n",
    "\n",
    "k.put_in_pouch('doll')  # Add 'doll' to the Kangaroo's pouch\n",
    "k.put_in_pouch('firetruck')  # Add 'firetruck' to the Kangaroo's pouch\n",
    "k.put_in_pouch('kitten')  # Add 'kitten' to the Kangaroo's pouch\n",
    "print(k.pouch_contents())  # Print the contents of the Kangaroo's pouch\n",
    "\n",
    "k.jump(1, 0)  # Jump to the right by 1 unit\n",
    "k.jump(1, 0)  # Jump to the right by 1 unit\n",
    "k.jump(1, 0)  # Jump to the right by 1 unit\n",
    "print(k)  # Print the updated string representation of the Kangaroo object"
   ]
  },
  {
   "cell_type": "markdown",
   "id": "66fadb0e",
   "metadata": {},
   "source": [
    "# Question 4\n",
    "Write function collatz() that takes a positive integer x as input and prints the\n",
    "Collatz sequence starting at x. A Collatz sequence is obtained by repeatedly applying\n",
    "this rule to the previous number x in the sequence:\n",
    "        𝑥/2 𝑖𝑓 𝑥 𝑖𝑠 𝑒𝑣𝑒𝑛\n",
    "x = {\n",
    "        3𝑥 + 1 𝑖𝑓 𝑥 𝑖𝑠 𝑜𝑑𝑑\n",
    "Your function should stop when the sequence gets to number 1. Your\n",
    "implementation must be recursive, without any loops.\n",
    "#### >>> collatz(1)\n",
    "1\n",
    "#### >>> collatz(10)\n",
    "10\n",
    "5\n",
    "16\n",
    "8\n",
    "4\n",
    "2\n",
    "1\n"
   ]
  },
  {
   "cell_type": "code",
   "execution_count": 12,
   "id": "37c0b7ae",
   "metadata": {},
   "outputs": [
    {
     "name": "stdout",
     "output_type": "stream",
     "text": [
      "1\n",
      "\n",
      "10\n",
      "5\n",
      "16\n",
      "8\n",
      "4\n",
      "2\n",
      "1\n"
     ]
    }
   ],
   "source": [
    "def collatz(x):\n",
    "    print(x)  # Print the value of x\n",
    "    if x == 1:  # If the value of x is 1, exit the recursion\n",
    "        return\n",
    "    if x % 2 == 0:  # If the value is even\n",
    "        collatz(x // 2)  # Recursively call collatz with x divided by 2\n",
    "    else:  # If the value is odd\n",
    "        collatz(3 * x + 1)  # Recursively call collatz with 3x + 1\n",
    "\n",
    "\n",
    "collatz(1)  # Output: 1\n",
    "print()  # Print a blank line to separate the two outputs\n",
    "collatz(10)  # Output: 10 5 16 8 4 2 1"
   ]
  },
  {
   "cell_type": "markdown",
   "id": "1cb57343",
   "metadata": {},
   "source": [
    "# Question 5\n",
    "Write a recursive method binary() that takes a non-negative\n",
    "integer n and prints the binary representation of integer n.\n",
    "#### >>> binary(0)\n",
    "0\n",
    "#### >>> binary(1)\n",
    "1\n",
    "#### >>> binary(3)\n",
    "11\n",
    "#### >>> binary(9)\n",
    "1001\n"
   ]
  },
  {
   "cell_type": "code",
   "execution_count": 14,
   "id": "884c3197",
   "metadata": {},
   "outputs": [
    {
     "name": "stdout",
     "output_type": "stream",
     "text": [
      "0\n",
      "1\n",
      "11\n",
      "1001"
     ]
    }
   ],
   "source": [
    "def binary(n):\n",
    "    if n > 1:  # Check if n is greater than 1\n",
    "        binary(n // 2)  # Recursively call binary with n divided by 2\n",
    "    print(n % 2, end='')  # Print the remainder of n divided by 2, with no new line\n",
    "\n",
    "binary(0) \n",
    "print()  # Print a newline to separate the results\n",
    "binary(1) \n",
    "print()  # Print a newline to separate the results\n",
    "binary(3)  \n",
    "print()  # Print a newline to separate the results\n",
    "binary(9) "
   ]
  },
  {
   "cell_type": "markdown",
   "id": "bd8b6503",
   "metadata": {},
   "source": [
    "# Question 6\n",
    "Implement a class named HeadingParser that can be used to parse an HTML\n",
    "document, and retrieve and print all the headings in the document. You should\n",
    "implement your class as a subclass of HTMLParser, defined in Standard Library\n",
    "module html.parser. When fed a string containing HTML code, your class should\n",
    "print the headings, one per line and in the order in which they appear in the\n",
    "document. Each heading should be indented as follows: an h1 heading should have\n",
    "indentation 0, and h2 heading should have indentation 1, etc. Test your\n",
    "implementation using w3c.html.\n",
    "#### >>> infile = open('w3c.html')\n",
    "#### >>> content = infile.read()\n",
    "#### >>> infile.close()\n",
    "#### >>> hp = HeadingParser()\n",
    "#### >>> hp.feed(content)\n",
    "W3C Mission\n",
    "Principles"
   ]
  },
  {
   "cell_type": "code",
   "execution_count": 16,
   "id": "4d834ad1",
   "metadata": {},
   "outputs": [
    {
     "name": "stdout",
     "output_type": "stream",
     "text": [
      "W3C Mission\n",
      " Principles\n"
     ]
    }
   ],
   "source": [
    "from html.parser import HTMLParser\n",
    "\n",
    "class HeadingParser(HTMLParser):\n",
    "    def __init__(self):\n",
    "        super().__init__()\n",
    "        self.in_heading = False  # Flag to track if parser is inside a heading tag\n",
    "        self.heading_level = 0  # Initialize heading indentation level\n",
    "        self.headings = []  # List to store the headings\n",
    "\n",
    "    def handle_starttag(self, tag, attrs):\n",
    "        if tag.startswith('h') and tag[1:].isdigit():  # Check if the tag is a valid heading tag\n",
    "            self.in_heading = True  # Set in_heading flag to True\n",
    "            self.heading_level = int(tag[1:])  # Set the heading level based on the tag\n",
    "\n",
    "    def handle_data(self, data):\n",
    "        if self.in_heading:\n",
    "            indentation = \" \" * (self.heading_level - 1)  # Indentation based on the heading level\n",
    "            heading_text = f\"{indentation}{data.strip()}\"  # Extract and format the heading text\n",
    "            self.headings.append(heading_text)  # Append the heading text to the list\n",
    "\n",
    "    def handle_endtag(self, tag):\n",
    "        if self.in_heading:\n",
    "            self.in_heading = False  # Set in_heading flag to False when exiting a heading tag\n",
    "\n",
    "    def print_headings(self):\n",
    "        for heading in self.headings:  # Iterate through the list of headings\n",
    "            print(heading)  # Print each heading\n",
    "\n",
    "# Usage example\n",
    "if __name__ == '__main__':\n",
    "    with open('w3c.html', 'r') as infile:  # Open the file in read mode\n",
    "        content = infile.read()  # Read the content of the file\n",
    "\n",
    "    hp = HeadingParser()  # Create an instance of HeadingParser\n",
    "    hp.feed(content)  # Feed the content to the parser\n",
    "    hp.print_headings()  # Print the extracted headings"
   ]
  },
  {
   "cell_type": "markdown",
   "id": "3f9ae640",
   "metadata": {},
   "source": [
    "# Question 7\n",
    "Implement recursive function webdir() that takes as input: a URL (as a string) and\n",
    "non-negative integers depth and indent. Your function should visit every web\n",
    "page reachable from the starting URL web page in depth clicks or less, and print\n",
    "each web page's URL. As shown below, indentation, specified by indent, should\n",
    "be used to indicate the depth of a URL.\n",
    "#### >>>\n",
    "webdir('http://reed.cs.depaul.edu/lperkovic/csc242/test1.html'\n",
    ", 2, 0)\n",
    "http://reed.cs.depaul.edu/lperkovic/csc242/test1.html\n",
    " http://reed.cs.depaul.edu/lperkovic/csc242/test2.html\n",
    " http://reed.cs.depaul.edu/lperkovic/csc242/test4.html\n",
    " http://reed.cs.depaul.edu/lperkovic/csc242/test3.html\n",
    " http://reed.cs.depaul.edu/lperkovic/csc242/test4.html"
   ]
  },
  {
   "cell_type": "code",
   "execution_count": 19,
   "id": "7dc73774",
   "metadata": {},
   "outputs": [
    {
     "name": "stdout",
     "output_type": "stream",
     "text": [
      "Note: you may need to restart the kernel to use updated packages.\n"
     ]
    },
    {
     "name": "stderr",
     "output_type": "stream",
     "text": [
      "WARNING: You are using pip version 21.0.1; however, version 23.3.1 is available.\n",
      "You should consider upgrading via the 'c:\\users\\hp\\appdata\\local\\programs\\python\\python38\\python.exe -m pip install --upgrade pip' command.\n"
     ]
    },
    {
     "name": "stdout",
     "output_type": "stream",
     "text": [
      "Collecting beautifulsoup4\n",
      "  Downloading beautifulsoup4-4.12.2-py3-none-any.whl (142 kB)\n",
      "Collecting soupsieve>1.2\n",
      "  Downloading soupsieve-2.5-py3-none-any.whl (36 kB)\n",
      "Installing collected packages: soupsieve, beautifulsoup4\n",
      "Successfully installed beautifulsoup4-4.12.2 soupsieve-2.5\n"
     ]
    }
   ],
   "source": [
    "pip install beautifulsoup4"
   ]
  },
  {
   "cell_type": "code",
   "execution_count": 20,
   "id": "closing-dealing",
   "metadata": {},
   "outputs": [],
   "source": [
    "import requests\n",
    "from bs4 import BeautifulSoup"
   ]
  },
  {
   "cell_type": "code",
   "execution_count": 21,
   "id": "7916b5bf",
   "metadata": {},
   "outputs": [
    {
     "name": "stdout",
     "output_type": "stream",
     "text": [
      "Error accessing http://reed.cs.depaul.edu/lperkovic/csc242/test1.html: 404 Client Error:  for url: http://reed.cs.depaul.edu/lperkovic/csc242/test1.html\n"
     ]
    }
   ],
   "source": [
    "def webdir(url, depth, indent=0):\n",
    "    if depth < 0:  # Check if depth is non-negative\n",
    "        return\n",
    "\n",
    "    try:  # Use try-except to handle exceptions\n",
    "        response = requests.get(url)  # Get the response from the URL\n",
    "        response.raise_for_status()  # Check the HTTP status code of the response\n",
    "        soup = BeautifulSoup(response.text, 'html.parser')  # Parse the HTML content\n",
    "\n",
    "        print(\" \" * indent + url)  # Print the URL with the specified indentation\n",
    "\n",
    "        if depth > 0:  # Check if depth is greater than 0\n",
    "            links = soup.find_all('a')  # Find all anchor tags in the HTML content\n",
    "            for link in links:\n",
    "                href = link.get('href')  # Get the 'href' attribute value from the anchor tag\n",
    "                if href and href.startswith('http'):  # Check if the URL is absolute\n",
    "                    webdir(href, depth - 1, indent + 2)  # Recursively call webdir with reduced depth and increased indentation\n",
    "\n",
    "    except Exception as e:  # Catch any exceptions and print an error message\n",
    "        print(\" \" * indent + f\"Error accessing {url}: {e}\")\n",
    "\n",
    "# Example usage\n",
    "webdir('http://reed.cs.depaul.edu/lperkovic/csc242/test1.html', 2, 0)  # Call the webdir function with the specified URL, depth, and initial indentation\n"
   ]
  },
  {
   "cell_type": "markdown",
   "id": "2e7dc958",
   "metadata": {},
   "source": [
    "# Question 8\n",
    "Write SQL queries on the below database table that return:\n",
    "a) All the temperature data.\n",
    "b) All the cities, but without repetition.\n",
    "c) All the records for India.\n",
    "d) All the Fall records.\n",
    "e) The city, country, and season for which the average rainfall is between 200\n",
    "and 400 millimeters.\n",
    "f) The city and country for which the average Fall temperature is above 20\n",
    "degrees, in increasing temperature order.\n",
    "g) The total annual rainfall for Cairo.\n",
    "h) The total rainfall for each season."
   ]
  },
  {
   "cell_type": "code",
   "execution_count": 1,
   "id": "suitable-aerospace",
   "metadata": {},
   "outputs": [
    {
     "name": "stdout",
     "output_type": "stream",
     "text": [
      "Requirement already satisfied: ipython-sql in c:\\users\\hp\\appdata\\local\\programs\\python\\python38\\lib\\site-packages (0.5.0)\n",
      "Requirement already satisfied: prettytable in c:\\users\\hp\\appdata\\local\\programs\\python\\python38\\lib\\site-packages (from ipython-sql) (3.9.0)\n",
      "Requirement already satisfied: six in c:\\users\\hp\\appdata\\local\\programs\\python\\python38\\lib\\site-packages (from ipython-sql) (1.15.0)\n",
      "Requirement already satisfied: ipython in c:\\users\\hp\\appdata\\local\\programs\\python\\python38\\lib\\site-packages (from ipython-sql) (7.20.0)\n",
      "Requirement already satisfied: sqlparse in c:\\users\\hp\\appdata\\local\\programs\\python\\python38\\lib\\site-packages (from ipython-sql) (0.4.4)\n",
      "Requirement already satisfied: ipython-genutils in c:\\users\\hp\\appdata\\local\\programs\\python\\python38\\lib\\site-packages (from ipython-sql) (0.2.0)\n",
      "Requirement already satisfied: sqlalchemy>=2.0 in c:\\users\\hp\\appdata\\local\\programs\\python\\python38\\lib\\site-packages (from ipython-sql) (2.0.22)\n",
      "Requirement already satisfied: typing-extensions>=4.2.0 in c:\\users\\hp\\appdata\\local\\programs\\python\\python38\\lib\\site-packages (from sqlalchemy>=2.0->ipython-sql) (4.8.0)\n",
      "Requirement already satisfied: greenlet!=0.4.17 in c:\\users\\hp\\appdata\\local\\programs\\python\\python38\\lib\\site-packages (from sqlalchemy>=2.0->ipython-sql) (3.0.1)\n",
      "Requirement already satisfied: setuptools>=18.5 in c:\\users\\hp\\appdata\\local\\programs\\python\\python38\\lib\\site-packages (from ipython->ipython-sql) (49.2.1)\n",
      "Requirement already satisfied: jedi>=0.16 in c:\\users\\hp\\appdata\\local\\programs\\python\\python38\\lib\\site-packages (from ipython->ipython-sql) (0.18.0)\n",
      "Requirement already satisfied: pygments in c:\\users\\hp\\appdata\\local\\programs\\python\\python38\\lib\\site-packages (from ipython->ipython-sql) (2.7.4)\n",
      "Requirement already satisfied: traitlets>=4.2 in c:\\users\\hp\\appdata\\local\\programs\\python\\python38\\lib\\site-packages (from ipython->ipython-sql) (5.0.5)\n",
      "Requirement already satisfied: pickleshare in c:\\users\\hp\\appdata\\local\\programs\\python\\python38\\lib\\site-packages (from ipython->ipython-sql) (0.7.5)\n",
      "Requirement already satisfied: decorator in c:\\users\\hp\\appdata\\local\\programs\\python\\python38\\lib\\site-packages (from ipython->ipython-sql) (4.4.2)\n",
      "Requirement already satisfied: backcall in c:\\users\\hp\\appdata\\local\\programs\\python\\python38\\lib\\site-packages (from ipython->ipython-sql) (0.2.0)\n",
      "Requirement already satisfied: prompt-toolkit!=3.0.0,!=3.0.1,<3.1.0,>=2.0.0 in c:\\users\\hp\\appdata\\local\\programs\\python\\python38\\lib\\site-packages (from ipython->ipython-sql) (3.0.16)\n",
      "Requirement already satisfied: colorama in c:\\users\\hp\\appdata\\local\\programs\\python\\python38\\lib\\site-packages (from ipython->ipython-sql) (0.4.4)\n",
      "Requirement already satisfied: parso<0.9.0,>=0.8.0 in c:\\users\\hp\\appdata\\local\\programs\\python\\python38\\lib\\site-packages (from jedi>=0.16->ipython->ipython-sql) (0.8.1)\n",
      "Requirement already satisfied: wcwidth in c:\\users\\hp\\appdata\\local\\programs\\python\\python38\\lib\\site-packages (from prompt-toolkit!=3.0.0,!=3.0.1,<3.1.0,>=2.0.0->ipython->ipython-sql) (0.2.5)\n",
      "Note: you may need to restart the kernel to use updated packages.\n"
     ]
    },
    {
     "name": "stderr",
     "output_type": "stream",
     "text": [
      "WARNING: You are using pip version 21.0.1; however, version 23.3.1 is available.\n",
      "You should consider upgrading via the 'c:\\users\\hp\\appdata\\local\\programs\\python\\python38\\python.exe -m pip install --upgrade pip' command.\n"
     ]
    }
   ],
   "source": [
    "pip install ipython-sql"
   ]
  },
  {
   "cell_type": "code",
   "execution_count": 2,
   "id": "84839055",
   "metadata": {},
   "outputs": [],
   "source": [
    "%load_ext sql\n",
    "%sql sqlite:// "
   ]
  },
  {
   "cell_type": "code",
   "execution_count": 5,
   "id": "017feca0",
   "metadata": {},
   "outputs": [
    {
     "name": "stdout",
     "output_type": "stream",
     "text": [
      " * sqlite://\n",
      "Done.\n"
     ]
    },
    {
     "data": {
      "text/plain": [
       "[]"
      ]
     },
     "execution_count": 5,
     "metadata": {},
     "output_type": "execute_result"
    }
   ],
   "source": [
    "%%sql \n",
    "CREATE TABLE IF NOT EXISTS weather (\n",
    "    City TEXT,\n",
    "    Country TEXT,\n",
    "    Season TEXT,\n",
    "    Temperature REAL,\n",
    "    Rainfall REAL\n",
    ");\n"
   ]
  },
  {
   "cell_type": "code",
   "execution_count": 7,
   "id": "0d10bc3d",
   "metadata": {},
   "outputs": [
    {
     "name": "stdout",
     "output_type": "stream",
     "text": [
      " * sqlite://\n",
      "12 rows affected.\n"
     ]
    },
    {
     "data": {
      "text/plain": [
       "[]"
      ]
     },
     "execution_count": 7,
     "metadata": {},
     "output_type": "execute_result"
    }
   ],
   "source": [
    "%%sql\n",
    "INSERT INTO weather (City, Country, Season, Temperature, Rainfall)\n",
    "VALUES\n",
    "    ('Mumbai', 'India', 'Winter', 24.8, 5.9),\n",
    "    ('Mumbai', 'India', 'Spring', 28.4, 16.2),\n",
    "    ('Mumbai', 'India', 'Summer', 27.9, 1549.4),\n",
    "    ('Mumbai', 'India', 'Fall', 27.6, 346.0),\n",
    "    ('London', 'United Kingdom', 'Winter', 4.2, 207.7),\n",
    "    ('London', 'United Kingdom', 'Spring', 8.3, 169.6),\n",
    "    ('London', 'United Kingdom', 'Summer', 15.7, 157.0),\n",
    "    ('London', 'United Kingdom', 'Fall', 10.4, 218.5),\n",
    "    ('Cairo', 'Egypt', 'Winter', 13.6, 16.5),\n",
    "    ('Cairo', 'Egypt', 'Spring', 20.7, 6.5),\n",
    "    ('Cairo', 'Egypt', 'Summer', 27.7, 0.1),\n",
    "    ('Cairo', 'Egypt', 'Fall', 22.2, 4.5); "
   ]
  },
  {
   "cell_type": "code",
   "execution_count": 9,
   "id": "fd7bf635",
   "metadata": {},
   "outputs": [
    {
     "name": "stdout",
     "output_type": "stream",
     "text": [
      " * sqlite://\n",
      "Done.\n"
     ]
    },
    {
     "data": {
      "text/html": [
       "<table>\n",
       "    <thead>\n",
       "        <tr>\n",
       "            <th>City</th>\n",
       "            <th>Country</th>\n",
       "            <th>Season</th>\n",
       "            <th>Temperature</th>\n",
       "            <th>Rainfall</th>\n",
       "        </tr>\n",
       "    </thead>\n",
       "    <tbody>\n",
       "        <tr>\n",
       "            <td>Mumbai</td>\n",
       "            <td>India</td>\n",
       "            <td>Winter</td>\n",
       "            <td>24.8</td>\n",
       "            <td>5.9</td>\n",
       "        </tr>\n",
       "        <tr>\n",
       "            <td>Mumbai</td>\n",
       "            <td>India</td>\n",
       "            <td>Spring</td>\n",
       "            <td>28.4</td>\n",
       "            <td>16.2</td>\n",
       "        </tr>\n",
       "        <tr>\n",
       "            <td>Mumbai</td>\n",
       "            <td>India</td>\n",
       "            <td>Summer</td>\n",
       "            <td>27.9</td>\n",
       "            <td>1549.4</td>\n",
       "        </tr>\n",
       "        <tr>\n",
       "            <td>Mumbai</td>\n",
       "            <td>India</td>\n",
       "            <td>Fall</td>\n",
       "            <td>27.6</td>\n",
       "            <td>346.0</td>\n",
       "        </tr>\n",
       "        <tr>\n",
       "            <td>London</td>\n",
       "            <td>United Kingdom</td>\n",
       "            <td>Winter</td>\n",
       "            <td>4.2</td>\n",
       "            <td>207.7</td>\n",
       "        </tr>\n",
       "        <tr>\n",
       "            <td>London</td>\n",
       "            <td>United Kingdom</td>\n",
       "            <td>Spring</td>\n",
       "            <td>8.3</td>\n",
       "            <td>169.6</td>\n",
       "        </tr>\n",
       "        <tr>\n",
       "            <td>London</td>\n",
       "            <td>United Kingdom</td>\n",
       "            <td>Summer</td>\n",
       "            <td>15.7</td>\n",
       "            <td>157.0</td>\n",
       "        </tr>\n",
       "        <tr>\n",
       "            <td>London</td>\n",
       "            <td>United Kingdom</td>\n",
       "            <td>Fall</td>\n",
       "            <td>10.4</td>\n",
       "            <td>218.5</td>\n",
       "        </tr>\n",
       "        <tr>\n",
       "            <td>Cairo</td>\n",
       "            <td>Egypt</td>\n",
       "            <td>Winter</td>\n",
       "            <td>13.6</td>\n",
       "            <td>16.5</td>\n",
       "        </tr>\n",
       "        <tr>\n",
       "            <td>Cairo</td>\n",
       "            <td>Egypt</td>\n",
       "            <td>Spring</td>\n",
       "            <td>20.7</td>\n",
       "            <td>6.5</td>\n",
       "        </tr>\n",
       "        <tr>\n",
       "            <td>Cairo</td>\n",
       "            <td>Egypt</td>\n",
       "            <td>Summer</td>\n",
       "            <td>27.7</td>\n",
       "            <td>0.1</td>\n",
       "        </tr>\n",
       "        <tr>\n",
       "            <td>Cairo</td>\n",
       "            <td>Egypt</td>\n",
       "            <td>Fall</td>\n",
       "            <td>22.2</td>\n",
       "            <td>4.5</td>\n",
       "        </tr>\n",
       "        <tr>\n",
       "            <td>Mumbai</td>\n",
       "            <td>India</td>\n",
       "            <td>Winter</td>\n",
       "            <td>24.8</td>\n",
       "            <td>5.9</td>\n",
       "        </tr>\n",
       "        <tr>\n",
       "            <td>Mumbai</td>\n",
       "            <td>India</td>\n",
       "            <td>Spring</td>\n",
       "            <td>28.4</td>\n",
       "            <td>16.2</td>\n",
       "        </tr>\n",
       "        <tr>\n",
       "            <td>Mumbai</td>\n",
       "            <td>India</td>\n",
       "            <td>Summer</td>\n",
       "            <td>27.9</td>\n",
       "            <td>1549.4</td>\n",
       "        </tr>\n",
       "        <tr>\n",
       "            <td>Mumbai</td>\n",
       "            <td>India</td>\n",
       "            <td>Fall</td>\n",
       "            <td>27.6</td>\n",
       "            <td>346.0</td>\n",
       "        </tr>\n",
       "        <tr>\n",
       "            <td>London</td>\n",
       "            <td>United Kingdom</td>\n",
       "            <td>Winter</td>\n",
       "            <td>4.2</td>\n",
       "            <td>207.7</td>\n",
       "        </tr>\n",
       "        <tr>\n",
       "            <td>London</td>\n",
       "            <td>United Kingdom</td>\n",
       "            <td>Spring</td>\n",
       "            <td>8.3</td>\n",
       "            <td>169.6</td>\n",
       "        </tr>\n",
       "        <tr>\n",
       "            <td>London</td>\n",
       "            <td>United Kingdom</td>\n",
       "            <td>Summer</td>\n",
       "            <td>15.7</td>\n",
       "            <td>157.0</td>\n",
       "        </tr>\n",
       "        <tr>\n",
       "            <td>London</td>\n",
       "            <td>United Kingdom</td>\n",
       "            <td>Fall</td>\n",
       "            <td>10.4</td>\n",
       "            <td>218.5</td>\n",
       "        </tr>\n",
       "        <tr>\n",
       "            <td>Cairo</td>\n",
       "            <td>Egypt</td>\n",
       "            <td>Winter</td>\n",
       "            <td>13.6</td>\n",
       "            <td>16.5</td>\n",
       "        </tr>\n",
       "        <tr>\n",
       "            <td>Cairo</td>\n",
       "            <td>Egypt</td>\n",
       "            <td>Spring</td>\n",
       "            <td>20.7</td>\n",
       "            <td>6.5</td>\n",
       "        </tr>\n",
       "        <tr>\n",
       "            <td>Cairo</td>\n",
       "            <td>Egypt</td>\n",
       "            <td>Summer</td>\n",
       "            <td>27.7</td>\n",
       "            <td>0.1</td>\n",
       "        </tr>\n",
       "        <tr>\n",
       "            <td>Cairo</td>\n",
       "            <td>Egypt</td>\n",
       "            <td>Fall</td>\n",
       "            <td>22.2</td>\n",
       "            <td>4.5</td>\n",
       "        </tr>\n",
       "    </tbody>\n",
       "</table>"
      ],
      "text/plain": [
       "[('Mumbai', 'India', 'Winter', 24.8, 5.9),\n",
       " ('Mumbai', 'India', 'Spring', 28.4, 16.2),\n",
       " ('Mumbai', 'India', 'Summer', 27.9, 1549.4),\n",
       " ('Mumbai', 'India', 'Fall', 27.6, 346.0),\n",
       " ('London', 'United Kingdom', 'Winter', 4.2, 207.7),\n",
       " ('London', 'United Kingdom', 'Spring', 8.3, 169.6),\n",
       " ('London', 'United Kingdom', 'Summer', 15.7, 157.0),\n",
       " ('London', 'United Kingdom', 'Fall', 10.4, 218.5),\n",
       " ('Cairo', 'Egypt', 'Winter', 13.6, 16.5),\n",
       " ('Cairo', 'Egypt', 'Spring', 20.7, 6.5),\n",
       " ('Cairo', 'Egypt', 'Summer', 27.7, 0.1),\n",
       " ('Cairo', 'Egypt', 'Fall', 22.2, 4.5),\n",
       " ('Mumbai', 'India', 'Winter', 24.8, 5.9),\n",
       " ('Mumbai', 'India', 'Spring', 28.4, 16.2),\n",
       " ('Mumbai', 'India', 'Summer', 27.9, 1549.4),\n",
       " ('Mumbai', 'India', 'Fall', 27.6, 346.0),\n",
       " ('London', 'United Kingdom', 'Winter', 4.2, 207.7),\n",
       " ('London', 'United Kingdom', 'Spring', 8.3, 169.6),\n",
       " ('London', 'United Kingdom', 'Summer', 15.7, 157.0),\n",
       " ('London', 'United Kingdom', 'Fall', 10.4, 218.5),\n",
       " ('Cairo', 'Egypt', 'Winter', 13.6, 16.5),\n",
       " ('Cairo', 'Egypt', 'Spring', 20.7, 6.5),\n",
       " ('Cairo', 'Egypt', 'Summer', 27.7, 0.1),\n",
       " ('Cairo', 'Egypt', 'Fall', 22.2, 4.5)]"
      ]
     },
     "execution_count": 9,
     "metadata": {},
     "output_type": "execute_result"
    }
   ],
   "source": [
    "%%sql\n",
    "SELECT * FROM weather "
   ]
  },
  {
   "cell_type": "code",
   "execution_count": 11,
   "id": "fe847323",
   "metadata": {},
   "outputs": [
    {
     "name": "stdout",
     "output_type": "stream",
     "text": [
      "Temperature Data Information\n",
      " * sqlite://\n",
      "Done.\n",
      "+-------------+\n",
      "| Temperature |\n",
      "+-------------+\n",
      "|     24.8    |\n",
      "|     28.4    |\n",
      "|     27.9    |\n",
      "|     27.6    |\n",
      "|     4.2     |\n",
      "|     8.3     |\n",
      "|     15.7    |\n",
      "|     10.4    |\n",
      "|     13.6    |\n",
      "|     20.7    |\n",
      "|     27.7    |\n",
      "|     22.2    |\n",
      "|     24.8    |\n",
      "|     28.4    |\n",
      "|     27.9    |\n",
      "|     27.6    |\n",
      "|     4.2     |\n",
      "|     8.3     |\n",
      "|     15.7    |\n",
      "|     10.4    |\n",
      "|     13.6    |\n",
      "|     20.7    |\n",
      "|     27.7    |\n",
      "|     22.2    |\n",
      "+-------------+\n",
      "Information of All the Cities without repetition\n",
      " * sqlite://\n",
      "Done.\n",
      "+--------+\n",
      "|  City  |\n",
      "+--------+\n",
      "| Mumbai |\n",
      "| London |\n",
      "| Cairo  |\n",
      "+--------+\n",
      "Information of India\n",
      " * sqlite://\n",
      "Done.\n",
      "+--------+---------+--------+-------------+----------+\n",
      "|  City  | Country | Season | Temperature | Rainfall |\n",
      "+--------+---------+--------+-------------+----------+\n",
      "| Mumbai |  India  | Winter |     24.8    |   5.9    |\n",
      "| Mumbai |  India  | Spring |     28.4    |   16.2   |\n",
      "| Mumbai |  India  | Summer |     27.9    |  1549.4  |\n",
      "| Mumbai |  India  |  Fall  |     27.6    |  346.0   |\n",
      "| Mumbai |  India  | Winter |     24.8    |   5.9    |\n",
      "| Mumbai |  India  | Spring |     28.4    |   16.2   |\n",
      "| Mumbai |  India  | Summer |     27.9    |  1549.4  |\n",
      "| Mumbai |  India  |  Fall  |     27.6    |  346.0   |\n",
      "+--------+---------+--------+-------------+----------+\n",
      "Information of Fall\n",
      " * sqlite://\n",
      "Done.\n",
      "+--------+----------------+--------+-------------+----------+\n",
      "|  City  |    Country     | Season | Temperature | Rainfall |\n",
      "+--------+----------------+--------+-------------+----------+\n",
      "| Mumbai |     India      |  Fall  |     27.6    |  346.0   |\n",
      "| London | United Kingdom |  Fall  |     10.4    |  218.5   |\n",
      "| Cairo  |     Egypt      |  Fall  |     22.2    |   4.5    |\n",
      "| Mumbai |     India      |  Fall  |     27.6    |  346.0   |\n",
      "| London | United Kingdom |  Fall  |     10.4    |  218.5   |\n",
      "| Cairo  |     Egypt      |  Fall  |     22.2    |   4.5    |\n",
      "+--------+----------------+--------+-------------+----------+\n",
      "The city, country, and season for which the average rainfall is between 200 and 400 millimeters\n",
      " * sqlite://\n",
      "Done.\n",
      "+--------+----------------+--------+\n",
      "|  City  |    Country     | Season |\n",
      "+--------+----------------+--------+\n",
      "| London | United Kingdom |  Fall  |\n",
      "| London | United Kingdom | Winter |\n",
      "| Mumbai |     India      |  Fall  |\n",
      "+--------+----------------+--------+\n",
      " The city and country for which the average Fall temperature is above 20 degrees, in increasing temperature order\n",
      " * sqlite://\n",
      "Done.\n",
      "+--------+----------------+--------+\n",
      "|  City  |    Country     | Season |\n",
      "+--------+----------------+--------+\n",
      "| London | United Kingdom |  Fall  |\n",
      "| London | United Kingdom | Winter |\n",
      "| Mumbai |     India      |  Fall  |\n",
      "+--------+----------------+--------+\n",
      "The total annual rainfall for Cairo\n",
      " * sqlite://\n",
      "Done.\n",
      "+-------+-----------------------+\n",
      "|  City | Total_Annual_Rainfall |\n",
      "+-------+-----------------------+\n",
      "| Cairo |          55.2         |\n",
      "+-------+-----------------------+\n",
      "The total rainfall for each season\n",
      " * sqlite://\n",
      "Done.\n",
      "+--------+--------------------+\n",
      "| Season |   Total_Rainfall   |\n",
      "+--------+--------------------+\n",
      "|  Fall  |       1138.0       |\n",
      "| Spring | 384.59999999999997 |\n",
      "| Summer |       3413.0       |\n",
      "| Winter |       460.2        |\n",
      "+--------+--------------------+\n"
     ]
    }
   ],
   "source": [
    "# a) All the temperature data.\n",
    "print(\"Temperature Data Information\")\n",
    "Temp = %sql SELECT Temperature FROM weather\n",
    "print(Temp) #select Temperture column\n",
    "\n",
    "# b) All the cities, but without repetition.\n",
    "print(\"Information of All the Cities without repetition\")\n",
    "City = %sql SELECT DISTINCT City FROM weather\n",
    "print(City) #get the unique city from table \n",
    "\n",
    "# c) All the records for India.\n",
    "print(\"Information of India\")\n",
    "India_Info = %sql SELECT * FROM weather WHERE Country = 'India'\n",
    "print(India_Info) # filter using coutry ='India' to get all record \n",
    "\n",
    "# d) All the Fall records\n",
    "print(\"Information of Fall\")\n",
    "Fall_Season_Info = %sql SELECT * FROM weather WHERE Season = 'Fall'\n",
    "print(Fall_Season_Info) # only fall data using the where condition\n",
    "\n",
    "# e) The city, country, and season for which the average rainfall is between 200 and 400 millimeters.\n",
    "print(\"The city, country, and season for which the average rainfall is between 200 and 400 millimeters\")\n",
    "Avg_RainFall = %sql SELECT City, Country, Season FROM weather GROUP BY City, Country, Season HAVING AVG(Rainfall) BETWEEN 200 AND 400\n",
    "print(Avg_RainFall) \n",
    "\n",
    "# f) The city and country for which the average Fall temperature is above 20 degrees, in increasing temperature order.\n",
    "print(\" The city and country for which the average Fall temperature is above 20 degrees, in increasing temperature order\")\n",
    "Avg_Temprature = %sql SELECT City, Country, Season FROM weather GROUP BY City, Country, Season HAVING AVG(Rainfall) BETWEEN 200 AND 400\n",
    "print(Avg_Temprature)\n",
    "\n",
    "# g) The total annual rainfall for Cairo.\n",
    "print(\"The total annual rainfall for Cairo\")\n",
    "Annual_Rainfall = %sql SELECT City, SUM(Rainfall) AS Total_Annual_Rainfall FROM weather WHERE City = 'Cairo' GROUP BY City\n",
    "print(Annual_Rainfall)\n",
    "\n",
    "# h) The total rainfall for each season.\n",
    "print(\"The total rainfall for each season\")\n",
    "Total_Rainfall = %sql SELECT Season, SUM(Rainfall) AS Total_Rainfall FROM weather GROUP BY Season\n",
    "print(Total_Rainfall)"
   ]
  },
  {
   "cell_type": "markdown",
   "id": "f14778d0",
   "metadata": {},
   "source": [
    "# Question 9\n",
    "Suppose list words is defined as follows:\n",
    "\n",
    "#### >>> words = ['The', 'quick', 'brown', 'fox', 'jumps', 'over', 'the', 'lazy', 'dog']\n",
    "Write list comprehension expressions that use list words and generate the following lists:\n",
    "\n",
    "a) ['THE', 'QUICK', 'BROWN', 'FOX', 'JUMPS', 'OVER', 'THE', 'LAZY', 'DOG']\n",
    "\n",
    "b) ['the', 'quick', 'brown', 'fox', 'jumps', 'over', 'the', 'lazy', 'dog']\n",
    "\n",
    "c) [3, 5, 5, 3, 5, 4, 3, 4, 3] (the list of lengths of words in list words).\n",
    "\n",
    "d) [['THE', 'the', 3], ['QUICK', 'quick', 5], ['BROWN','brown', 5], ['FOX', 'fox', 3], ['JUMPS', 'jumps', 5], ['OVER', 'over', 4], ['THE', 'the', 3], ['LAZY', 'lazy', 4], ['DOG', 'dog', 3]] (the list containing a list for every word of list words, where each list contains the word in uppercase and lowercase and the length of the word.)\n",
    "\n",
    "e) ['The', 'quick', 'brown', 'fox', 'jumps', 'over', 'the', 'lazy', 'dog'] (the list of words in list words containing 4 or more characters.)"
   ]
  },
  {
   "cell_type": "code",
   "execution_count": 12,
   "id": "76175231",
   "metadata": {},
   "outputs": [
    {
     "name": "stdout",
     "output_type": "stream",
     "text": [
      "['THE', 'QUICK', 'BROWN', 'FOX', 'JUMPS', 'OVER', 'THE', 'LAZY', 'DOG']\n",
      "\n",
      "['the', 'quick', 'brown', 'fox', 'jumps', 'over', 'the', 'lazy', 'dog']\n",
      "\n",
      "[3, 5, 5, 3, 5, 4, 3, 4, 3]\n",
      "\n",
      "[['THE', 'the', 3], ['QUICK', 'quick', 5], ['BROWN', 'brown', 5], ['FOX', 'fox', 3], ['JUMPS', 'jumps', 5], ['OVER', 'over', 4], ['THE', 'the', 3], ['LAZY', 'lazy', 4], ['DOG', 'dog', 3]]\n",
      "\n",
      "['quick', 'brown', 'jumps', 'over', 'lazy']\n"
     ]
    }
   ],
   "source": [
    "# Given list of words\n",
    "words = ['The', 'quick', 'brown', 'fox', 'jumps', 'over', 'the', 'lazy', 'dog']\n",
    "\n",
    "# Convert words to Uppercase\n",
    "UC_Words = [word.upper() for word in words]  # Convert each word to Uppercase\n",
    "\n",
    "# Convert words to Lowercase\n",
    "LC_Words = [word.lower() for word in words]  # Convert each word to Lowercase\n",
    "\n",
    "# Find the length of each word\n",
    "Length_of_Words = [len(word) for word in words]  # Find the length of each word\n",
    "\n",
    "# List of information with Uppercase, Lowercase, and Word Length\n",
    "Word_Info = [[word.upper(), word.lower(), len(word)] for word in words]  # Create a list with uppercase, lowercase, and length of each word\n",
    "\n",
    "# Select words with 4 or more characters\n",
    "More_Ch_Words = [word for word in words if len(word) >= 4]  # Select words with 4 or more characters\n",
    "\n",
    "# Print the results\n",
    "print(UC_Words)  # Print words in Uppercase\n",
    "print()\n",
    "print(LC_Words)  # Print words in Lowercase\n",
    "print()\n",
    "print(Length_of_Words)  # Print the lengths of the words\n",
    "print()\n",
    "print(Word_Info)  # Print the list of information with Uppercase, Lowercase, and Word Length\n",
    "print()\n",
    "print(More_Ch_Words)  # Print words with 4 or more characters"
   ]
  },
  {
   "cell_type": "code",
   "execution_count": null,
   "id": "046be361",
   "metadata": {},
   "outputs": [],
   "source": []
  }
 ],
 "metadata": {
  "kernelspec": {
   "display_name": "Python 3",
   "language": "python",
   "name": "python3"
  },
  "language_info": {
   "codemirror_mode": {
    "name": "ipython",
    "version": 3
   },
   "file_extension": ".py",
   "mimetype": "text/x-python",
   "name": "python",
   "nbconvert_exporter": "python",
   "pygments_lexer": "ipython3",
   "version": "3.8.7"
  }
 },
 "nbformat": 4,
 "nbformat_minor": 5
}
